{
 "cells": [
  {
   "cell_type": "code",
   "execution_count": 26,
   "metadata": {},
   "outputs": [],
   "source": [
    "import pathlib\n",
    "from collections import namedtuple as NT\n",
    "from scipy.io import loadmat\n",
    "import numpy as np\n",
    "import xarray as xr\n",
    "import csv\n",
    "π = np.pi"
   ]
  },
  {
   "cell_type": "code",
   "execution_count": 2,
   "metadata": {},
   "outputs": [],
   "source": [
    "model_path = pathlib.Path('./Sky_Light_Reflection/model1.mat')"
   ]
  },
  {
   "cell_type": "code",
   "execution_count": 27,
   "metadata": {},
   "outputs": [],
   "source": [
    "denv_vars = ['wind', 'od', 'C', 'zen_sun', 'wtem', 'sal']\n",
    "\n",
    "def unpack_env_rho(model_path):\n",
    "    model1 = loadmat(model_path)\n",
    "    env, rho = model1['env'], model1['rho']\n",
    "    d_env = dict.fromkeys(denv_vars)\n",
    "    d_rho = dict.fromkeys(['sky', 'sun', 'sca2vec', 'rho'])\n",
    "    d_env['wind'] = env['wind'][0][0].squeeze()\n",
    "    d_env['od'] = env['od'][0][0].squeeze()\n",
    "    d_env['C'] = env['C'][0][0].squeeze()\n",
    "    d_env['zen_sun'] = env['zen_sun'][0][0].squeeze()\n",
    "    d_env['wtem'] = env['wtem'][0][0].squeeze()\n",
    "    d_env['sal'] = env['sal'][0][0].squeeze()\n",
    "    d_rho['sky'] = rho['sky'][0][0].squeeze()\n",
    "    d_rho['sun'] = rho['sun'][0][0].squeeze()\n",
    "    d_rho['sca2vec'] = rho['sca2vec'][0][0].squeeze()\n",
    "    d_rho['rho'] = rho['rho'][0][0].squeeze()\n",
    "    return d_env, d_rho"
   ]
  },
  {
   "cell_type": "code",
   "execution_count": 25,
   "metadata": {},
   "outputs": [
    {
     "data": {
      "text/plain": [
       "pathlib.PosixPath"
      ]
     },
     "execution_count": 25,
     "metadata": {},
     "output_type": "execute_result"
    }
   ],
   "source": [
    "type(model_path)"
   ]
  },
  {
   "cell_type": "code",
   "execution_count": 22,
   "metadata": {},
   "outputs": [
    {
     "data": {
      "text/plain": [
       "{'wind': array(10, dtype=uint8),\n",
       " 'od': array(0.13),\n",
       " 'C': array(100, dtype=uint8),\n",
       " 'zen_sun': array(30, dtype=uint8),\n",
       " 'wtem': array(15, dtype=uint8),\n",
       " 'sal': array(35, dtype=uint8)}"
      ]
     },
     "execution_count": 22,
     "metadata": {},
     "output_type": "execute_result"
    }
   ],
   "source": [
    "denv"
   ]
  },
  {
   "cell_type": "code",
   "execution_count": 38,
   "metadata": {},
   "outputs": [
    {
     "data": {
      "text/plain": [
       "dict_values([array(10, dtype=uint8), array(0.13), array(100, dtype=uint8), array(30, dtype=uint8), array(15, dtype=uint8), array(35, dtype=uint8)])"
      ]
     },
     "execution_count": 38,
     "metadata": {},
     "output_type": "execute_result"
    }
   ],
   "source": [
    "denv.values()"
   ]
  },
  {
   "cell_type": "code",
   "execution_count": 40,
   "metadata": {},
   "outputs": [],
   "source": [
    "d = [val for val in denv.values()]"
   ]
  },
  {
   "cell_type": "code",
   "execution_count": 122,
   "metadata": {},
   "outputs": [],
   "source": [
    "with open('denv.csv') as f:\n",
    "    rows = f.readlines()\n",
    "    d = {k:v for k,v in zip(rows[0].strip().split(','),\n",
    "                            np.array(rows[1].strip().split(','), dtype='f2'))}"
   ]
  },
  {
   "cell_type": "code",
   "execution_count": 123,
   "metadata": {},
   "outputs": [
    {
     "data": {
      "text/plain": [
       "{'wind': 10.0,\n",
       " 'od': 0.13,\n",
       " 'C': 100.0,\n",
       " 'zen_sun': 30.0,\n",
       " 'wtem': 15.0,\n",
       " 'sal': 35.0}"
      ]
     },
     "execution_count": 123,
     "metadata": {},
     "output_type": "execute_result"
    }
   ],
   "source": [
    "d"
   ]
  },
  {
   "cell_type": "code",
   "execution_count": 98,
   "metadata": {},
   "outputs": [
    {
     "name": "stdout",
     "output_type": "stream",
     "text": [
      "['wind', 'od', 'C', 'zen_sun', 'wtem', 'sal']\n",
      "['10', '0.13', '100', '30', '15', '35']\n"
     ]
    }
   ],
   "source": [
    "for i, row in rows:\n",
    "    data = row.strip().split(',')\n",
    "    if i>0: data = np.array(data)\n"
   ]
  },
  {
   "cell_type": "code",
   "execution_count": 89,
   "metadata": {},
   "outputs": [
    {
     "name": "stdout",
     "output_type": "stream",
     "text": [
      "['wind', 'od', 'C', 'zen_sun', 'wtem', 'sal']\n",
      "wind\n",
      "wind od\n",
      "['10', '0.13', '100', '30', '15', '35']\n",
      "10\n",
      "10 0.13\n"
     ]
    }
   ],
   "source": [
    "f = open'denv.csv')\n",
    "reader = csv.reader(f)\n",
    "for row in reader:\n",
    "    print(row)\n",
    "    print(row[0])\n",
    "    print(row[0],row[1],)"
   ]
  },
  {
   "cell_type": "code",
   "execution_count": 4,
   "metadata": {},
   "outputs": [],
   "source": [
    "denv, dro = unpack_env_rho(model_path)"
   ]
  },
  {
   "cell_type": "code",
   "execution_count": 5,
   "metadata": {},
   "outputs": [],
   "source": [
    "sensor = dict.fromkeys(['ang', 'wv', 'ang2'])\n",
    "sensor['ang'] = np.array([40, 45])\n",
    "sensor['wv'] = np.arange(350, 1010, 10)\n",
    "sensor['ang2'] = sensor['ang'] + np.array([0, 180])"
   ]
  },
  {
   "cell_type": "code",
   "execution_count": 6,
   "metadata": {},
   "outputs": [],
   "source": [
    "sensor['pol'] = np.deg2rad(sensor['ang'])"
   ]
  },
  {
   "cell_type": "code",
   "execution_count": 9,
   "metadata": {},
   "outputs": [],
   "source": [
    "def my_sph2cart(azm, zen, r):\n",
    "    def sph2cart(azm, elev, r):\n",
    "        cos_elev = np.cos(elev)\n",
    "        x = r * cos_elev * np.cos(azm)\n",
    "        y = r * cos_elev * np.sin(azm)\n",
    "        z = r * np.sin(elev)\n",
    "        return x, y, z\n",
    "    x, y, z = sph2cart(azm, π/2 - zen, r)\n",
    "    return np.c_[x.ravel(), y.ravel(), z.ravel()].squeeze()"
   ]
  },
  {
   "cell_type": "code",
   "execution_count": 10,
   "metadata": {},
   "outputs": [],
   "source": [
    "sensor['vec'] = my_sph2cart(sensor['pol'][1], sensor['pol'][0], 1)"
   ]
  },
  {
   "cell_type": "code",
   "execution_count": 11,
   "metadata": {},
   "outputs": [],
   "source": [
    "sensor['pol2'] = np.deg2rad(sensor['ang2'])"
   ]
  },
  {
   "cell_type": "code",
   "execution_count": 12,
   "metadata": {},
   "outputs": [],
   "source": [
    "project_dir = pathlib.Path.home() / 'PROJECTS/DAURIN/Sky_Light_Reflection/'\n",
    "db_path = project_dir / 'db.mat'"
   ]
  },
  {
   "cell_type": "code",
   "execution_count": 102,
   "metadata": {},
   "outputs": [],
   "source": [
    "def find_quads(zen, azm):\n",
    "    #zen, azm = sensor_pol\n",
    "    print(f'zen: {zen}')\n",
    "    print(azm)\n",
    "    loc = None\n",
    "    try:\n",
    "        with xr.open_dataset(db_path, group='quads') as quads:\n",
    "            tmp = np.sqrt((quads.zen[:] - zen)**2 + (quads.azm[:] - azm)**2)\n",
    "            loc = np.argmin(tmp)\n",
    "    except:\n",
    "        pass\n",
    "    finally:\n",
    "        return loc"
   ]
  },
  {
   "cell_type": "code",
   "execution_count": 103,
   "metadata": {},
   "outputs": [
    {
     "name": "stdout",
     "output_type": "stream",
     "text": [
      "zen: 0.6981317007977318\n",
      "3.9269908169872414\n",
      "CPU times: user 12 ms, sys: 8 ms, total: 20 ms\n",
      "Wall time: 31.3 ms\n"
     ]
    }
   ],
   "source": [
    "%%time\n",
    "sensor['loc2'] = find_quads(*sensor['pol2'])"
   ]
  },
  {
   "cell_type": "markdown",
   "metadata": {},
   "source": [
    "* \\\\(\\rightarrow\\\\) my_sph2cart\n",
    "* \\\\(\\rightarrow\\\\) find_quads\n",
    "* \\\\(\\rightarrow\\\\) get_prob\n",
    "    *  \\\\(\\rightarrow\\\\) sky_light_reflection2\n",
    "        * \\\\(\\rightarrow\\\\) gen_vec_polar\n",
    "        * \\\\(\\rightarrow\\\\) prob_reflection\n",
    "            * \\\\(\\rightarrow\\\\) vec_length\n",
    "            * \\\\(\\rightarrow\\\\) my_cart2sph\n",
    "            * \\\\(\\rightarrow\\\\) cox_munk\n",
    "            * \\\\(\\rightarrow\\\\) rayleighcdf\n",
    "        * \\\\(\\rightarrow\\\\) gen_vec_quad\n",
    "    "
   ]
  },
  {
   "cell_type": "code",
   "execution_count": 171,
   "metadata": {},
   "outputs": [],
   "source": [
    "# get prob\n",
    "\n",
    "with xr.open_dataset(db_path, group='quads') as quads:\n",
    "    prob = quads.zen\n",
    "    #angr_sky \n",
    "    # sky_light_reflection2\n",
    "    # polar quad, 1st in quads\n",
    "    zen0 = quads.zen.data[0][0]\n",
    "    # generate sky vector\n",
    "    #p_vec = gen_vec_polar(zen0, quads.sun05, 100)\n",
    "    sun05 = quads.sun05.data.squeeze()"
   ]
  },
  {
   "cell_type": "code",
   "execution_count": 185,
   "metadata": {},
   "outputs": [],
   "source": [
    "# sky_light_reflection2\n",
    "# gen_vec_polar\n",
    "def gen_vec_polar(zen, sun05, num=10):\n",
    "    ϕ = np.linspace(0, 2*π, 100)\n",
    "    sin_sun05 = np.sin(sun05)\n",
    "    tmp = np.c_[sin_sun05*np.cos(ϕ), sin_sun05 * np.sin(ϕ), np.cos(sun05)*np.ones_like(ϕ)]\n",
    "    tmp = np.insert(tmp, 0, [0, 0, 1], axis=0)\n",
    "    ry = np.c_[[np.cos(zen), 0, np.sin(zen)], \n",
    "               [0, 1, 0], \n",
    "               [-np.sin(zen), 0, np.cos(zen)]]\n",
    "    vec = tmp @ ry\n",
    "    return vec    \n",
    "\n",
    "pvec = gen_vec_polar(zen0, sun05, num=100)\n"
   ]
  },
  {
   "cell_type": "code",
   "execution_count": 226,
   "metadata": {},
   "outputs": [],
   "source": [
    "# prob_reflection\n",
    "# def prob_reflection(inc, refl, wind):\n",
    "inc = -pvec\n",
    "refl = sensor['vec']\n",
    "wind = denv['wind']\n",
    "n = refl - inc  \n",
    "n /= np.sqrt(np.sum(np.power(np.abs(n), 2), axis=1))[:,None]"
   ]
  },
  {
   "cell_type": "code",
   "execution_count": 225,
   "metadata": {},
   "outputs": [
    {
     "data": {
      "text/plain": [
       "array([[0.24184476, 0.24184476, 0.93969262],\n",
       "       [0.24417634, 0.24170057, 0.93912659],\n",
       "       [0.24416238, 0.2418487 , 0.93909208],\n",
       "       [0.2441391 , 0.24199682, 0.93905998],\n",
       "       [0.24410659, 0.24214431, 0.93903041],\n",
       "       [0.24406499, 0.24229059, 0.93900349],\n",
       "       [0.24401446, 0.24243507, 0.93897933],\n",
       "       [0.2439552 , 0.24257717, 0.93895803],\n",
       "       [0.24388745, 0.24271632, 0.93893967],\n",
       "       [0.24381149, 0.24285196, 0.93892432],\n",
       "       [0.24372763, 0.24298355, 0.93891205],\n",
       "       [0.24363619, 0.24311055, 0.93890291],\n",
       "       [0.24353754, 0.24323246, 0.93889692],\n",
       "       [0.24343209, 0.24334879, 0.93889413],\n",
       "       [0.24332026, 0.24345907, 0.93889453],\n",
       "       [0.24320249, 0.24356286, 0.93889812],\n",
       "       [0.24307926, 0.24365974, 0.9389049 ],\n",
       "       [0.24295106, 0.24374932, 0.93891483],\n",
       "       [0.24281841, 0.24383124, 0.93892787],\n",
       "       [0.24268184, 0.24390517, 0.93894398],\n",
       "       [0.2425419 , 0.24397082, 0.93896308],\n",
       "       [0.24239915, 0.24402792, 0.93898511],\n",
       "       [0.24225417, 0.24407623, 0.93900996],\n",
       "       [0.24210753, 0.24411558, 0.93903756],\n",
       "       [0.24195982, 0.24414579, 0.93906777],\n",
       "       [0.24181165, 0.24416675, 0.93910049],\n",
       "       [0.2416636 , 0.24417836, 0.93913558],\n",
       "       [0.24151627, 0.24418059, 0.9391729 ],\n",
       "       [0.24137026, 0.24417342, 0.9392123 ],\n",
       "       [0.24122614, 0.24415688, 0.93925362],\n",
       "       [0.2410845 , 0.24413103, 0.93929671],\n",
       "       [0.24094592, 0.24409599, 0.93934137],\n",
       "       [0.24081094, 0.24405187, 0.93938745],\n",
       "       [0.24068011, 0.24399888, 0.93943474],\n",
       "       [0.24055396, 0.24393721, 0.93948307],\n",
       "       [0.240433  , 0.24386711, 0.93953223],\n",
       "       [0.24031771, 0.24378886, 0.93958203],\n",
       "       [0.24020856, 0.24370278, 0.93963227],\n",
       "       [0.24010599, 0.24360922, 0.93968275],\n",
       "       [0.24001041, 0.24350854, 0.93973326],\n",
       "       [0.23992221, 0.24340115, 0.9397836 ],\n",
       "       [0.23984175, 0.24328749, 0.93983357],\n",
       "       [0.23976935, 0.243168  , 0.93988296],\n",
       "       [0.23970531, 0.24304318, 0.93993158],\n",
       "       [0.23964988, 0.24291352, 0.93997923],\n",
       "       [0.23960329, 0.24277955, 0.94002572],\n",
       "       [0.23956572, 0.2426418 , 0.94007086],\n",
       "       [0.23953734, 0.24250083, 0.94011447],\n",
       "       [0.23951825, 0.2423572 , 0.94015637],\n",
       "       [0.23950853, 0.2422115 , 0.94019639],\n",
       "       [0.23950823, 0.24206432, 0.94023437],\n",
       "       [0.23951735, 0.24191624, 0.94027016],\n",
       "       [0.23953585, 0.24176786, 0.94030361],\n",
       "       [0.23956365, 0.24161979, 0.94033459],\n",
       "       [0.23960065, 0.24147262, 0.94036296],\n",
       "       [0.2396467 , 0.24132693, 0.94038863],\n",
       "       [0.23970161, 0.24118333, 0.94041147],\n",
       "       [0.23976516, 0.2410424 , 0.94043141],\n",
       "       [0.2398371 , 0.24090469, 0.94044835],\n",
       "       [0.23991713, 0.24077076, 0.94046223],\n",
       "       [0.24000493, 0.24064117, 0.940473  ],\n",
       "       [0.24010016, 0.24051642, 0.9404806 ],\n",
       "       [0.24020241, 0.24039703, 0.94048502],\n",
       "       [0.24031129, 0.24028347, 0.94048622],\n",
       "       [0.24042635, 0.24017621, 0.94048421],\n",
       "       [0.24054713, 0.24007568, 0.940479  ],\n",
       "       [0.24067313, 0.23998227, 0.9404706 ],\n",
       "       [0.24080386, 0.23989638, 0.94045905],\n",
       "       [0.24093878, 0.23981834, 0.9404444 ],\n",
       "       [0.24107735, 0.23974848, 0.9404267 ],\n",
       "       [0.24121901, 0.23968706, 0.94040603],\n",
       "       [0.24136318, 0.23963435, 0.94038247],\n",
       "       [0.24150929, 0.23959055, 0.94035612],\n",
       "       [0.24165675, 0.23955583, 0.94032708],\n",
       "       [0.24180495, 0.23953035, 0.94029547],\n",
       "       [0.24195331, 0.23951419, 0.94026143],\n",
       "       [0.24210122, 0.23950743, 0.94022507],\n",
       "       [0.24224809, 0.23951008, 0.94018657],\n",
       "       [0.24239333, 0.23952215, 0.94014606],\n",
       "       [0.24253634, 0.23954357, 0.94010372],\n",
       "       [0.24267656, 0.23957426, 0.94005971],\n",
       "       [0.24281342, 0.2396141 , 0.94001422],\n",
       "       [0.24294636, 0.23966292, 0.93996742],\n",
       "       [0.24307486, 0.23972052, 0.93991951],\n",
       "       [0.24319839, 0.23978668, 0.93987068],\n",
       "       [0.24331647, 0.23986113, 0.93982112],\n",
       "       [0.2434286 , 0.23994355, 0.93977104],\n",
       "       [0.24353435, 0.24003363, 0.93972064],\n",
       "       [0.24363329, 0.24013099, 0.93967012],\n",
       "       [0.24372502, 0.24023525, 0.93961968],\n",
       "       [0.24380917, 0.24034597, 0.93956953],\n",
       "       [0.24388541, 0.24046272, 0.93951987],\n",
       "       [0.24395342, 0.24058503, 0.9394709 ],\n",
       "       [0.24401295, 0.2407124 , 0.93942281],\n",
       "       [0.24406374, 0.24084431, 0.93937581],\n",
       "       [0.2441056 , 0.24098025, 0.93933007],\n",
       "       [0.24413836, 0.24111965, 0.93928578],\n",
       "       [0.24416189, 0.24126196, 0.93924312],\n",
       "       [0.24417609, 0.24140661, 0.93920226],\n",
       "       [0.24418091, 0.241553  , 0.93916337],\n",
       "       [0.24417634, 0.24170057, 0.93912659]])"
      ]
     },
     "execution_count": 225,
     "metadata": {},
     "output_type": "execute_result"
    }
   ],
   "source": [
    "# my_cart2sph"
   ]
  },
  {
   "cell_type": "code",
   "execution_count": 218,
   "metadata": {},
   "outputs": [
    {
     "data": {
      "text/plain": [
       "array([[0.        , 0.        , 1.        ],\n",
       "       [0.0046557 , 0.        , 0.99998916]])"
      ]
     },
     "execution_count": 218,
     "metadata": {},
     "output_type": "execute_result"
    }
   ],
   "source": [
    "pvec[:2]"
   ]
  },
  {
   "cell_type": "code",
   "execution_count": 210,
   "metadata": {},
   "outputs": [
    {
     "data": {
      "text/plain": [
       "array([0.45451948, 0.45451948, 0.76604444])"
      ]
     },
     "execution_count": 210,
     "metadata": {},
     "output_type": "execute_result"
    }
   ],
   "source": [
    "refl"
   ]
  },
  {
   "cell_type": "code",
   "execution_count": 221,
   "metadata": {},
   "outputs": [
    {
     "data": {
      "text/plain": [
       "array([[0.45451948, 0.45451948, 1.76604444],\n",
       "       [0.45917518, 0.45451948, 1.76603361]])"
      ]
     },
     "execution_count": 221,
     "metadata": {},
     "output_type": "execute_result"
    }
   ],
   "source": [
    "(refl + pvec)[:2]"
   ]
  },
  {
   "cell_type": "code",
   "execution_count": 219,
   "metadata": {},
   "outputs": [
    {
     "data": {
      "text/plain": [
       "array([[0.45451948, 0.45451948, 1.76604444],\n",
       "       [0.45917518, 0.45451948, 1.76603361]])"
      ]
     },
     "execution_count": 219,
     "metadata": {},
     "output_type": "execute_result"
    }
   ],
   "source": [
    "n[:2]"
   ]
  },
  {
   "cell_type": "code",
   "execution_count": 204,
   "metadata": {},
   "outputs": [
    {
     "data": {
      "text/plain": [
       "array(10, dtype=uint8)"
      ]
     },
     "execution_count": 204,
     "metadata": {},
     "output_type": "execute_result"
    }
   ],
   "source": [
    "wind"
   ]
  },
  {
   "cell_type": "code",
   "execution_count": 205,
   "metadata": {},
   "outputs": [
    {
     "data": {
      "text/plain": [
       "array([-9.54548052, -9.54548052, -9.23395556])"
      ]
     },
     "execution_count": 205,
     "metadata": {},
     "output_type": "execute_result"
    }
   ],
   "source": [
    "refl - wind"
   ]
  },
  {
   "cell_type": "code",
   "execution_count": null,
   "metadata": {},
   "outputs": [],
   "source": []
  }
 ],
 "metadata": {
  "kernelspec": {
   "display_name": "Python [conda env:daurin] *",
   "language": "python",
   "name": "conda-env-daurin-py"
  },
  "language_info": {
   "codemirror_mode": {
    "name": "ipython",
    "version": 3
   },
   "file_extension": ".py",
   "mimetype": "text/x-python",
   "name": "python",
   "nbconvert_exporter": "python",
   "pygments_lexer": "ipython3",
   "version": "3.7.3"
  }
 },
 "nbformat": 4,
 "nbformat_minor": 2
}
