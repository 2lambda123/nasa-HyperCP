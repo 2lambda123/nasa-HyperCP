{
 "cells": [
  {
   "cell_type": "code",
   "execution_count": 1,
   "metadata": {},
   "outputs": [
    {
     "name": "stdout",
     "output_type": "stream",
     "text": [
      "Collecting package metadata (repodata.json): done\n",
      "Solving environment: done\n",
      "\n",
      "\n",
      "==> WARNING: A newer version of conda exists. <==\n",
      "  current version: 4.7.11\n",
      "  latest version: 4.7.12\n",
      "\n",
      "Please update conda by running\n",
      "\n",
      "    $ conda update -n base conda\n",
      "\n",
      "\n",
      "\n",
      "## Package Plan ##\n",
      "\n",
      "  environment location: /accounts/ekarakoy/anaconda3/envs/daurin\n",
      "\n",
      "  added / updated specs:\n",
      "    - h5netcdf\n",
      "    - scipy\n",
      "\n",
      "\n",
      "The following packages will be downloaded:\n",
      "\n",
      "    package                    |            build\n",
      "    ---------------------------|-----------------\n",
      "    h5netcdf-0.7.4             |             py_0          17 KB  conda-forge\n",
      "    ------------------------------------------------------------\n",
      "                                           Total:          17 KB\n",
      "\n",
      "The following NEW packages will be INSTALLED:\n",
      "\n",
      "  h5netcdf           conda-forge/noarch::h5netcdf-0.7.4-py_0\n",
      "  h5py               conda-forge/linux-64::h5py-2.10.0-nompi_py37h513d04c_100\n",
      "  hdf5               conda-forge/linux-64::hdf5-1.10.5-nompi_h3c11f04_1103\n",
      "  scipy              conda-forge/linux-64::scipy-1.3.1-py37h921218d_2\n",
      "\n",
      "\n",
      "\n",
      "Downloading and Extracting Packages\n",
      "h5netcdf-0.7.4       | 17 KB     | ##################################### | 100% \n",
      "Preparing transaction: done\n",
      "Verifying transaction: done\n",
      "Executing transaction: done\n"
     ]
    }
   ],
   "source": [
    "!conda install scipy h5netcdf -c conda-forge -y"
   ]
  },
  {
   "cell_type": "code",
   "execution_count": 9,
   "metadata": {},
   "outputs": [],
   "source": [
    "import pathlib\n",
    "import re\n",
    "import numpy as np\n",
    "import pandas as pd\n",
    "from scipy.io import loadmat\n",
    "import h5netcdf\n",
    "import xarray as xr\n"
   ]
  },
  {
   "cell_type": "code",
   "execution_count": 44,
   "metadata": {},
   "outputs": [],
   "source": [
    "main_path = pathlib.Path.home() / 'PROJECTS/DAURIN/Sky_Light_Reflection/'"
   ]
  },
  {
   "cell_type": "code",
   "execution_count": 45,
   "metadata": {},
   "outputs": [],
   "source": [
    "db_path = main_path / 'db.mat'"
   ]
  },
  {
   "cell_type": "code",
   "execution_count": 46,
   "metadata": {},
   "outputs": [
    {
     "data": {
      "text/plain": [
       "True"
      ]
     },
     "execution_count": 46,
     "metadata": {},
     "output_type": "execute_result"
    }
   ],
   "source": [
    "db_path.exists()"
   ]
  },
  {
   "cell_type": "code",
   "execution_count": 5,
   "metadata": {},
   "outputs": [],
   "source": [
    "fdb = h5netcdf.File(db_path, mode='r')"
   ]
  },
  {
   "cell_type": "code",
   "execution_count": 10,
   "metadata": {},
   "outputs": [],
   "source": [
    "fdb.close()"
   ]
  },
  {
   "cell_type": "markdown",
   "metadata": {},
   "source": [
    "Groups of interest:\n",
    "* db\n",
    "* quads\n",
    "* sdb\n",
    "* vdb <br><br>\n",
    "\n",
    "Variables of interest:\n",
    "* skyrad0\n",
    "* sunrad0\n",
    "* Radiance_BOA_sca\n",
    "* Radiance_BOA_vec"
   ]
  },
  {
   "cell_type": "code",
   "execution_count": 22,
   "metadata": {},
   "outputs": [],
   "source": [
    "goi = ['db', 'quads', 'sdb', 'vdb']"
   ]
  },
  {
   "cell_type": "code",
   "execution_count": 23,
   "metadata": {},
   "outputs": [],
   "source": [
    "voi = ['skyrad0', 'sunrad0', \n",
    "       'Radiance_BOA_sca', 'Radiance_BOA_vec'\n",
    "      ]"
   ]
  },
  {
   "cell_type": "code",
   "execution_count": 24,
   "metadata": {},
   "outputs": [],
   "source": [
    "for goii in goi:\n",
    "    exec(f'{goii} = xr.open_dataset(db_path, group=goii)')"
   ]
  },
  {
   "cell_type": "code",
   "execution_count": 41,
   "metadata": {},
   "outputs": [],
   "source": [
    "for voii in voi:\n",
    "    exec(f'{voii} = xr.open_dataset(db_path)[voii]')"
   ]
  },
  {
   "cell_type": "code",
   "execution_count": 42,
   "metadata": {},
   "outputs": [
    {
     "data": {
      "text/plain": [
       "<xarray.DataArray 'skyrad0' (phony_dim_30: 131, phony_dim_31: 92476, phony_dim_29: 4, phony_dim_32: 7)>\n",
       "[339201968 values with dtype=float64]\n",
       "Dimensions without coordinates: phony_dim_30, phony_dim_31, phony_dim_29, phony_dim_32\n",
       "Attributes:\n",
       "    MATLAB_class:  double"
      ]
     },
     "execution_count": 42,
     "metadata": {},
     "output_type": "execute_result"
    }
   ],
   "source": [
    "skyrad0"
   ]
  },
  {
   "cell_type": "code",
   "execution_count": 36,
   "metadata": {},
   "outputs": [
    {
     "data": {
      "text/plain": [
       "<xarray.Dataset>\n",
       "Dimensions:  (phony_dim_5: 1, phony_dim_6: 92476, phony_dim_7: 675, phony_dim_8: 1, phony_dim_9: 138)\n",
       "Dimensions without coordinates: phony_dim_5, phony_dim_6, phony_dim_7, phony_dim_8, phony_dim_9\n",
       "Data variables:\n",
       "    azm      (phony_dim_5, phony_dim_6) float64 0.0 0.0 0.009308 ... 6.265 6.274\n",
       "    azm0     (phony_dim_7, phony_dim_8) float64 ...\n",
       "    azm_num  (phony_dim_8, phony_dim_8) float64 675.0\n",
       "    dphi     (phony_dim_8, phony_dim_8) float64 ...\n",
       "    du       (phony_dim_8, phony_dim_8) float64 ...\n",
       "    sun05    (phony_dim_8, phony_dim_8) float64 ...\n",
       "    zen      (phony_dim_5, phony_dim_6) float64 ...\n",
       "    zen0     (phony_dim_9, phony_dim_8) float64 ...\n",
       "    zen_num  (phony_dim_8, phony_dim_8) float64 ...\n",
       "Attributes:\n",
       "    MATLAB_class:  struct"
      ]
     },
     "execution_count": 36,
     "metadata": {},
     "output_type": "execute_result"
    }
   ],
   "source": [
    "quads"
   ]
  },
  {
   "cell_type": "code",
   "execution_count": 43,
   "metadata": {},
   "outputs": [
    {
     "data": {
      "text/plain": [
       "(1, 92476)"
      ]
     },
     "execution_count": 43,
     "metadata": {},
     "output_type": "execute_result"
    }
   ],
   "source": [
    "quads.zen.shape"
   ]
  },
  {
   "cell_type": "code",
   "execution_count": 27,
   "metadata": {},
   "outputs": [
    {
     "data": {
      "text/plain": [
       "<xarray.Dataset>\n",
       "Dimensions:   (phony_dim_10: 37, phony_dim_11: 1, phony_dim_12: 18, phony_dim_13: 5, phony_dim_14: 4, phony_dim_15: 13, phony_dim_16: 36)\n",
       "Dimensions without coordinates: phony_dim_10, phony_dim_11, phony_dim_12, phony_dim_13, phony_dim_14, phony_dim_15, phony_dim_16\n",
       "Data variables:\n",
       "    azm_view  (phony_dim_10, phony_dim_11) float64 ...\n",
       "    od        (phony_dim_12, phony_dim_13) float64 ...\n",
       "    wind      (phony_dim_14, phony_dim_11) float64 ...\n",
       "    wv        (phony_dim_12, phony_dim_11) float64 ...\n",
       "    zen_sun   (phony_dim_15, phony_dim_11) float64 ...\n",
       "    zen_view  (phony_dim_16, phony_dim_11) float64 ...\n",
       "Attributes:\n",
       "    MATLAB_class:  struct"
      ]
     },
     "execution_count": 27,
     "metadata": {},
     "output_type": "execute_result"
    }
   ],
   "source": [
    "sdb"
   ]
  },
  {
   "cell_type": "code",
   "execution_count": 28,
   "metadata": {},
   "outputs": [
    {
     "data": {
      "text/plain": [
       "<xarray.Dataset>\n",
       "Dimensions:   (phony_dim_17: 37, phony_dim_18: 1, phony_dim_19: 18, phony_dim_20: 5, phony_dim_21: 4, phony_dim_22: 13, phony_dim_23: 36)\n",
       "Dimensions without coordinates: phony_dim_17, phony_dim_18, phony_dim_19, phony_dim_20, phony_dim_21, phony_dim_22, phony_dim_23\n",
       "Data variables:\n",
       "    azm_view  (phony_dim_17, phony_dim_18) float64 ...\n",
       "    od        (phony_dim_19, phony_dim_20) float64 ...\n",
       "    wind      (phony_dim_21, phony_dim_18) float64 ...\n",
       "    wv        (phony_dim_19, phony_dim_18) float64 ...\n",
       "    zen_sun   (phony_dim_22, phony_dim_18) float64 ...\n",
       "    zen_view  (phony_dim_23, phony_dim_18) float64 ...\n",
       "Attributes:\n",
       "    MATLAB_class:  struct"
      ]
     },
     "execution_count": 28,
     "metadata": {},
     "output_type": "execute_result"
    }
   ],
   "source": [
    "vdb"
   ]
  },
  {
   "cell_type": "markdown",
   "metadata": {},
   "source": [
    "### <u>Root Level Variables</u>"
   ]
  },
  {
   "cell_type": "markdown",
   "metadata": {},
   "source": [
    "radi_boa_sca: shape = (37, 36, 18, 13, 5, 4)\n",
    "radi_boa_vec: shape = (37, 36, 18, 13, 5, 4)\n",
    "skyrad_0: = shape (131, 92476, 4 ,7)\n",
    "sunrad_0: = shape(131, 4, 7)"
   ]
  },
  {
   "cell_type": "markdown",
   "metadata": {},
   "source": [
    "### <u>Variables in Structure 'db'</u>"
   ]
  },
  {
   "cell_type": "code",
   "execution_count": 79,
   "metadata": {},
   "outputs": [],
   "source": [
    "db_ = fdb['db']\n",
    "db_C = db_['C'][:].squeeze() # shape (4,)\n",
    "db_od = db_['od'][:].squeeze() # shape(4, )\n",
    "db_wind = db_['wind'][:].squeeze() # shape(4, )\n",
    "db_wv = db_['wv'][:].squeeze() # shape(131, )\n",
    "db_zen_sun = db_['zen_sun'][:].squeeze() # shape(7,)"
   ]
  },
  {
   "cell_type": "markdown",
   "metadata": {},
   "source": [
    "### <u>Variables in Structure 'quads'</u>"
   ]
  },
  {
   "cell_type": "code",
   "execution_count": 118,
   "metadata": {},
   "outputs": [],
   "source": [
    "quads = fdb['quads']\n",
    "quads_azm = quads['azm'][:].squeeze() # shape(92476, )\n",
    "quads_azm0 = quads['azm0'][:].squeeze() # shape(675, )\n",
    "quads_dphi = quads['dphi'][:].squeeze() # shape(1, )\n",
    "quads_du = quads['du'][:].squeeze() # shape(1, )\n",
    "quads_sun05 = quads['sun05'][:].squeeze() # shape(1, )\n",
    "quads_zen = quads['zen'][:].squeeze() # shape(92476, )\n",
    "quads_zen0 = quads['zen0'][:].squeeze() #shape (138,)\n",
    "quads_zen_num = quads['zen_num'][:].squeeze() # shape(1,)"
   ]
  },
  {
   "cell_type": "markdown",
   "metadata": {},
   "source": [
    "### <u>Variables in Structure 'sdb'</u>"
   ]
  },
  {
   "cell_type": "code",
   "execution_count": 123,
   "metadata": {
    "collapsed": true
   },
   "outputs": [],
   "source": [
    "sdb = fdb['sdb']\n",
    "sdb_azm_view = sdb['azm_view'][:].squeeze() # shape(37, )\n",
    "sdb_od = sdb['od'][:] # shape(18, 5)\n",
    "sdb_wind = sdb['wind'][:].squeeze() # shape(4, )\n",
    "sdb_wv = sdb['wv'][:].squeeze() # shape (18, )\n",
    "sdb_zen_sun = sdb['zen_sun'][:].squeeze() # shape(13, )\n",
    "sdb_zen_view = sdb['zen_view'][:].squeeze() # shape(36,)"
   ]
  },
  {
   "cell_type": "markdown",
   "metadata": {},
   "source": [
    "### <u>Variables in Structure 'vdb'</u>"
   ]
  },
  {
   "cell_type": "code",
   "execution_count": 138,
   "metadata": {
    "collapsed": true
   },
   "outputs": [],
   "source": [
    "vdb = fdb['vdb']\n",
    "vdb_azm_view = vdb['azm_view'][:].squeeze() # shape(37, )\n",
    "vdb_od = vdb['od'][:] # shape(18, 5)\n",
    "vdb_wind = vdb['wind'][:].squeeze() # shape(4, )\n",
    "vdb_wv = vdb['wv'][:].squeeze() # shape (18, )\n",
    "vdb_zen_sun = vdb['zen_sun'][:].squeeze() # shape(13, )\n",
    "vdb_zen_view = vdb['zen_view'][:].squeeze() # shape(36,)"
   ]
  },
  {
   "cell_type": "code",
   "execution_count": 144,
   "metadata": {},
   "outputs": [
    {
     "data": {
      "text/plain": [
       "(36,)"
      ]
     },
     "execution_count": 144,
     "metadata": {},
     "output_type": "execute_result"
    }
   ],
   "source": [
    "vdb_zen_view.shape"
   ]
  },
  {
   "cell_type": "code",
   "execution_count": null,
   "metadata": {
    "collapsed": true
   },
   "outputs": [],
   "source": []
  }
 ],
 "metadata": {
  "kernelspec": {
   "display_name": "Python [conda env:daurin] *",
   "language": "python",
   "name": "conda-env-daurin-py"
  },
  "language_info": {
   "codemirror_mode": {
    "name": "ipython",
    "version": 3
   },
   "file_extension": ".py",
   "mimetype": "text/x-python",
   "name": "python",
   "nbconvert_exporter": "python",
   "pygments_lexer": "ipython3",
   "version": "3.7.3"
  }
 },
 "nbformat": 4,
 "nbformat_minor": 2
}
